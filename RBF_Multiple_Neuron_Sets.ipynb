{
  "nbformat": 4,
  "nbformat_minor": 0,
  "metadata": {
    "colab": {
      "name": "RBF-Multiple Neuron Sets.ipynb",
      "provenance": [],
      "collapsed_sections": [],
      "mount_file_id": "1DfOtySnjY3FcDBNpd1N32wLbnT8IEa-v",
      "authorship_tag": "ABX9TyPT4yiq0n3u7z3lwl/0MO+S"
    },
    "kernelspec": {
      "name": "python3",
      "display_name": "Python 3"
    }
  },
  "cells": [
    {
      "cell_type": "markdown",
      "metadata": {
        "id": "TfeD5lMwLHAc",
        "colab_type": "text"
      },
      "source": [
        "##Implementation of RBF Network with more than one set of neurons\n",
        "\n",
        "The following is how to implement a RBF network with Gradien Descent with two subsets of neurons. Each set of neurons will be trained on a different class of MNIST. \n"
      ]
    },
    {
      "cell_type": "code",
      "metadata": {
        "id": "bTuLaIRtWZKV",
        "colab_type": "code",
        "colab": {}
      },
      "source": [
        "import RBFGrad\n",
        "from RBFGrad import *\n",
        "import numpy as np"
      ],
      "execution_count": 0,
      "outputs": []
    },
    {
      "cell_type": "markdown",
      "metadata": {
        "id": "_gvqRUNXnhRZ",
        "colab_type": "text"
      },
      "source": [
        "### Instantiate\n",
        "\n"
      ]
    },
    {
      "cell_type": "code",
      "metadata": {
        "id": "u7hpYD7tXOTl",
        "colab_type": "code",
        "colab": {}
      },
      "source": [
        "layer= RBFLayer()"
      ],
      "execution_count": 0,
      "outputs": []
    },
    {
      "cell_type": "markdown",
      "metadata": {
        "id": "fTpZ2WRgpiGy",
        "colab_type": "text"
      },
      "source": [
        "###1. Add First Set of Neurons\n",
        "\n",
        "\n",
        "\n",
        "\n",
        "\n",
        "\n",
        "\n",
        "---\n"
      ]
    },
    {
      "cell_type": "code",
      "metadata": {
        "id": "AzlStFWEjpGv",
        "colab_type": "code",
        "outputId": "2fd2497c-7a2f-4f47-a30e-0d0cdb1bed32",
        "colab": {
          "base_uri": "https://localhost:8080/",
          "height": 34
        }
      },
      "source": [
        "layer.add(10)\n",
        "print (\"number of neurons: \" + str(layer.num_neurons))"
      ],
      "execution_count": 3,
      "outputs": [
        {
          "output_type": "stream",
          "text": [
            "number of neurons: 10\n"
          ],
          "name": "stdout"
        }
      ]
    },
    {
      "cell_type": "markdown",
      "metadata": {
        "id": "cmOSI9pJrPPG",
        "colab_type": "text"
      },
      "source": [
        "###2. Load Desired Data\n",
        "The data must be normalized. In the example we will train 10 neurons on MNIST class 0, create another set and train those 10 neurons on MNIST class 4"
      ]
    },
    {
      "cell_type": "code",
      "metadata": {
        "id": "ao1Khcy9lGKU",
        "colab_type": "code",
        "colab": {}
      },
      "source": [
        "#for datasets only \n",
        "import tensorflow as tf \n",
        "(train_data,train_labels),(test_data,test_labels)= tf.keras.datasets.mnist.load_data()\n",
        "zeros = train_data[np.where(train_labels==0)] #MNIST 0\n",
        "fours=train_data[np.where(train_labels==4)]  #MNIST 4"
      ],
      "execution_count": 0,
      "outputs": []
    },
    {
      "cell_type": "code",
      "metadata": {
        "id": "JrfQKOLPrdKc",
        "colab_type": "code",
        "colab": {}
      },
      "source": [
        "input_sample=np.zeros((39,28,28))\n",
        "input_sample[0:19]=zeros[0:19] #The first 0:19 inputs will be MNIST 0\n",
        "input_sample[20:39]=fours[0:19] #The second 20:39 inputs will be MNIST 4\n",
        "input_sample=input_sample.reshape(39,784) \n",
        "input_mean = np.mean(input_sample)\n",
        "input_stdev=np.std(input_sample)\n",
        "input_sample =input_sample-input_mean\n",
        "input_sample=input_sample/input_stdev\n"
      ],
      "execution_count": 0,
      "outputs": []
    },
    {
      "cell_type": "markdown",
      "metadata": {
        "id": "bbvIl8_-smH0",
        "colab_type": "text"
      },
      "source": [
        "###3. Load 'Prototype'\n",
        "\n",
        "Load the prototype of MNIST 0 on 10 neurons."
      ]
    },
    {
      "cell_type": "code",
      "metadata": {
        "id": "_sawplk2r6AT",
        "colab_type": "code",
        "colab": {}
      },
      "source": [
        "layer.initialize(input_sample[0])"
      ],
      "execution_count": 0,
      "outputs": []
    },
    {
      "cell_type": "markdown",
      "metadata": {
        "id": "Z3_fUXyQuFIU",
        "colab_type": "text"
      },
      "source": [
        "###4.Train the Neurons Using Similar Samples. \n"
      ]
    },
    {
      "cell_type": "code",
      "metadata": {
        "id": "kxLChhHms-Z-",
        "colab_type": "code",
        "colab": {}
      },
      "source": [
        "ctr=0\n",
        "for i in range(100):\n",
        "  layer.set_input(input_sample[ctr])\n",
        "  if ctr<=19:\n",
        "    layer.trainNeurons(range(0,9))\n",
        "  ctr=ctr+1\n",
        "  if ctr>19: \n",
        "    ctr=0"
      ],
      "execution_count": 0,
      "outputs": []
    },
    {
      "cell_type": "markdown",
      "metadata": {
        "id": "5vABSKgNn7ru",
        "colab_type": "text"
      },
      "source": [
        "### 5. Now add 10 additional neurons, and assign them the prototype of MNIST 4, and train on MNIST data 4"
      ]
    },
    {
      "cell_type": "code",
      "metadata": {
        "id": "xKZdcyDQoCSa",
        "colab_type": "code",
        "colab": {}
      },
      "source": [
        "layer.add (10) \n",
        "layer.initialize(input_sample[20])"
      ],
      "execution_count": 0,
      "outputs": []
    },
    {
      "cell_type": "code",
      "metadata": {
        "id": "OKlLvTv7omUf",
        "colab_type": "code",
        "colab": {}
      },
      "source": [
        "ctr=20    #you want to start at MNIST 4 data only\n",
        "for i in range(100):\n",
        "  layer.set_input(input_sample[ctr])\n",
        "  if ctr<=38:\n",
        "    layer.trainNeurons(range(10,19))\n",
        "  ctr=ctr+1\n",
        "  if ctr>38: \n",
        "    ctr=20"
      ],
      "execution_count": 0,
      "outputs": []
    },
    {
      "cell_type": "markdown",
      "metadata": {
        "id": "8ySQZpeIyHgQ",
        "colab_type": "text"
      },
      "source": [
        "###5. Test Neuron\n",
        "\n",
        "Gather test data, in this case it is MNIST 4 and MNIST 0. \n",
        "\n",
        "You will expect that the first set of neurons will have low activation for MNIST 4 as it has been trained on MNIST 0, while the second set will have low activation for MNIST 0, and high activation for for MNIST 4 Both neurons will have low activation for MNIST 4\n"
      ]
    },
    {
      "cell_type": "code",
      "metadata": {
        "id": "0Ax9uSMKxW1Y",
        "colab_type": "code",
        "colab": {}
      },
      "source": [
        "twos=train_data[np.where(train_labels==2)]\n",
        "fours = train_data[np.where(train_labels==4)]"
      ],
      "execution_count": 0,
      "outputs": []
    },
    {
      "cell_type": "code",
      "metadata": {
        "id": "lfuCt8kuF5TH",
        "colab_type": "code",
        "colab": {}
      },
      "source": [
        "testData = np.zeros((41,28,28))\n",
        "testData[0:20]=fours[41:61] #these are MNIST data that was not present during training\n",
        "testData[21:41]=zeros[41:61]\n",
        "testData= testData-input_mean \n",
        "testData=testData/input_stdev\n",
        "testData=testData.reshape(41,784) \n"
      ],
      "execution_count": 0,
      "outputs": []
    },
    {
      "cell_type": "markdown",
      "metadata": {
        "id": "fqFvQHBhfrjJ",
        "colab_type": "text"
      },
      "source": [
        "###Reults "
      ]
    },
    {
      "cell_type": "code",
      "metadata": {
        "id": "JEDlWksWx-oM",
        "colab_type": "code",
        "outputId": "08d0427f-63d5-4a2d-9761-ea1f60c14cf6",
        "colab": {
          "base_uri": "https://localhost:8080/",
          "height": 295
        }
      },
      "source": [
        "import matplotlib.pyplot as py\n",
        "neuronSet1=0\n",
        "neuronSet2=0\n",
        "py.title('Sample Number versus Layer Summed Activation - Layer 1')\n",
        "py.xlabel('sample number') \n",
        "py.ylabel('layer summed activation')\n",
        "\n",
        "for i in range(40):\n",
        "  neuronSet1=(sum(layer.layerOutput(testData[i])[0:9] ))\n",
        "  neuronSet2=(sum(layer.layerOutput(testData[i])[10:19] ))\n",
        "  if i<=19: #displaying MNIST 4\n",
        "    py.scatter(i,neuronSet1,color='red') #Trained on zeros - Expect Low\n",
        "    py.scatter(i,neuronSet2,color='blue') #Trained on fours - Expect High\n",
        "  elif i>=20 and i<=40: #displaying MNIST 0.\n",
        "    py.scatter(i,neuronSet1,color='red') #Trained on zeros -Expect High\n",
        "    py.scatter(i,neuronSet2,color='blue') #Trained on Fours.  - Expect Low"
      ],
      "execution_count": 12,
      "outputs": [
        {
          "output_type": "display_data",
          "data": {
            "image/png": "[encoded data removed]",
            "text/plain": [
              "<Figure size 432x288 with 1 Axes>"
            ]
          },
          "metadata": {
            "tags": [],
            "needs_background": "light"
          }
        }
      ]
    }
  ]
}

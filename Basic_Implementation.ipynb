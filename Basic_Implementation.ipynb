{
  "nbformat": 4,
  "nbformat_minor": 0,
  "metadata": {
    "colab": {
      "name": "RBF-Implementation.ipynb",
      "provenance": [],
      "collapsed_sections": [],
      "mount_file_id": "1DfOtySnjY3FcDBNpd1N32wLbnT8IEa-v",
      "authorship_tag": "ABX9TyMNvDUyOfO5Ujp7T+DojVuz"
    },
    "kernelspec": {
      "name": "python3",
      "display_name": "Python 3"
    }
  },
  "cells": [
    {
      "cell_type": "markdown",
      "metadata": {
        "id": "TfeD5lMwLHAc",
        "colab_type": "text"
      },
      "source": [
        "## Basic Implementation of RBF Network with Gradient Descent \n",
        "\n",
        "The following is how to implement a basic RBF network with Gradient Descent only using 10 neurons. \n"
      ]
    },
    {
      "cell_type": "code",
      "metadata": {
        "id": "bTuLaIRtWZKV",
        "colab_type": "code",
        "colab": {}
      },
      "source": [
        "import RBFGrad\n",
        "from RBFGrad import *\n",
        "import numpy as np"
      ],
      "execution_count": 0,
      "outputs": []
    },
    {
      "cell_type": "markdown",
      "metadata": {
        "id": "_gvqRUNXnhRZ",
        "colab_type": "text"
      },
      "source": [
        "### Instantiate\n",
        "RBFGrad contains two classes:\n",
        "\n",
        "``` RBFNeuron() ```\n",
        "```RBFLayer()```\n",
        "\n",
        "\n",
        "---\n",
        "\n",
        "\n",
        "RBFLayer handles the input, output and training of the ensemble of each RBFNeuron. "
      ]
    },
    {
      "cell_type": "code",
      "metadata": {
        "id": "u7hpYD7tXOTl",
        "colab_type": "code",
        "colab": {}
      },
      "source": [
        "layer= RBFLayer()"
      ],
      "execution_count": 0,
      "outputs": []
    },
    {
      "cell_type": "markdown",
      "metadata": {
        "id": "fTpZ2WRgpiGy",
        "colab_type": "text"
      },
      "source": [
        "###1. Add Neurons\n",
        "\n",
        ">```RBFLayer.add(num_neurons=10):```\n",
        "\n",
        "\n",
        "\n",
        "\n",
        "\n",
        "\n",
        "---\n",
        "\n",
        "\n",
        "The Add() function will add a number of neurons. By default 10 neurons will be added. "
      ]
    },
    {
      "cell_type": "code",
      "metadata": {
        "id": "AzlStFWEjpGv",
        "colab_type": "code",
        "outputId": "795214f0-fc12-412b-b9cd-88d3bb2e1b52",
        "colab": {
          "base_uri": "https://localhost:8080/",
          "height": 34
        }
      },
      "source": [
        "layer.add(10)\n",
        "print (\"number of neurons: \" + str(layer.num_neurons))"
      ],
      "execution_count": 0,
      "outputs": [
        {
          "output_type": "stream",
          "text": [
            "number of neurons: 10\n"
          ],
          "name": "stdout"
        }
      ]
    },
    {
      "cell_type": "markdown",
      "metadata": {
        "id": "cmOSI9pJrPPG",
        "colab_type": "text"
      },
      "source": [
        "###2. Load Desired Data\n",
        "The data must be normalized. In the example we will train the layer with MNIST 0"
      ]
    },
    {
      "cell_type": "code",
      "metadata": {
        "id": "ao1Khcy9lGKU",
        "colab_type": "code",
        "colab": {}
      },
      "source": [
        "#for datasets only \n",
        "import tensorflow as tf \n",
        "(train_data,train_labels),(test_data,test_labels)= tf.keras.datasets.mnist.load_data()\n",
        "zeros = train_data[np.where(train_labels==0)]\n"
      ],
      "execution_count": 0,
      "outputs": []
    },
    {
      "cell_type": "code",
      "metadata": {
        "id": "JrfQKOLPrdKc",
        "colab_type": "code",
        "colab": {}
      },
      "source": [
        "input_sample=zeros[0:20]\n",
        "input_sample=input_sample.reshape(20,784) \n",
        "input_mean = np.mean(input_sample)\n",
        "input_stdev=np.std(input_sample)\n",
        "input_sample =input_sample-input_mean\n",
        "input_sample=input_sample/input_stdev\n"
      ],
      "execution_count": 0,
      "outputs": []
    },
    {
      "cell_type": "markdown",
      "metadata": {
        "id": "bbvIl8_-smH0",
        "colab_type": "text"
      },
      "source": [
        "###3. Load 'Prototype'\n",
        "\n",
        "\n",
        "\n",
        ">```RBFLayer.initialize(inputs)```\n",
        "\n",
        "\n",
        "\n",
        "\n",
        "---\n",
        "\n",
        "\n",
        "This function will take a 1-D vector of data (inputs), and evenly split the data into a series of smaller vectors and store them as the 'basis' vector for each neuron in the layer. \n",
        "\n",
        "The function will also initialize a vector of weights the size of each basis vector. \n",
        "\n",
        "Once the neuron is assigned a basis vector it cannot be assigned another basis vector. "
      ]
    },
    {
      "cell_type": "code",
      "metadata": {
        "id": "_sawplk2r6AT",
        "colab_type": "code",
        "colab": {}
      },
      "source": [
        "layer.initialize(input_sample[0])"
      ],
      "execution_count": 0,
      "outputs": []
    },
    {
      "cell_type": "markdown",
      "metadata": {
        "id": "NZDW6T2jGj60",
        "colab_type": "text"
      },
      "source": [
        ""
      ]
    },
    {
      "cell_type": "markdown",
      "metadata": {
        "id": "Z3_fUXyQuFIU",
        "colab_type": "text"
      },
      "source": [
        "###4.Train the Neurons Using Similar Samples. \n",
        "\n",
        "This is done by two functions: \n",
        "\n",
        ">```RBFLayer.set_input(inputs)```\n",
        "\n",
        "\n",
        "---\n",
        "\n",
        "\n",
        "This will set the data the neuron will attempt to match it's prototype to. \n",
        "\n",
        "\n",
        "\n",
        ">```RBFLayer.trainNeurons(selectNeurons)```\n",
        "\n",
        "\n",
        "---\n",
        "\n",
        "\n",
        "This function will adjust weights to incorporate the input data into it's stored prototype, creating a prototype of the distribution of data. \n",
        "\n",
        "You must specify which neuron is to be trained. \n",
        "\n",
        "In the example below 10 neurons are trained. "
      ]
    },
    {
      "cell_type": "code",
      "metadata": {
        "id": "kxLChhHms-Z-",
        "colab_type": "code",
        "colab": {}
      },
      "source": [
        "sample_number=0\n",
        "for i in range(100):\n",
        "  layer.set_input(input_sample[sample_number])\n",
        "  if ctr<=19:\n",
        "    layer.trainNeurons(range(0,10))\n",
        "  ctr=ctr+1\n",
        "  if ctr>19: \n",
        "    ctr=0"
      ],
      "execution_count": 0,
      "outputs": []
    },
    {
      "cell_type": "markdown",
      "metadata": {
        "id": "8ySQZpeIyHgQ",
        "colab_type": "text"
      },
      "source": [
        "###5. Test Neuron\n",
        "\n",
        "Gather test data, in this case it is MNIST 2, and MNIST 4. \n",
        "\n",
        "Perform inference from network using \n",
        "\n",
        ">```\n",
        "RBFLayer.layerOutput(inputs=[])\n",
        "```\n",
        "\n",
        "Which is a function that accepts input vector, then splits the input vector into parts, to be presented to each appropriate neuron. The neurons will compare a MSE between the input and the prototype, and output 1-MSE(prototype-input). Activation is higher when MSE is lower. \n",
        "\n",
        "The function will output a value for every neuron. You can sum up all the output to come to a final activation level for the neuron\n",
        "\n",
        "You will see in the resulting graph that the activation MNIST 0, was higher compared to the twos and fours, indicating that the neurons have learned. \n"
      ]
    },
    {
      "cell_type": "code",
      "metadata": {
        "id": "0Ax9uSMKxW1Y",
        "colab_type": "code",
        "colab": {}
      },
      "source": [
        "twos=train_data[np.where(train_labels==2)]\n",
        "fours = train_data[np.where(train_labels==4)]"
      ],
      "execution_count": 0,
      "outputs": []
    },
    {
      "cell_type": "code",
      "metadata": {
        "id": "lfuCt8kuF5TH",
        "colab_type": "code",
        "colab": {}
      },
      "source": [
        "testData = np.zeros((62,28,28))\n",
        "testData[0:20]=zeros[41:61] #these are MNIST data that was not present during training\n",
        "testData[21:41]=twos[0:20]\n",
        "testData[42:62]=fours[0:20]\n",
        "testData= testData-input_mean \n",
        "testData=testData/input_stdev\n",
        "testData=testData.reshape(62,784) \n"
      ],
      "execution_count": 0,
      "outputs": []
    },
    {
      "cell_type": "code",
      "metadata": {
        "id": "JEDlWksWx-oM",
        "colab_type": "code",
        "outputId": "88776929-01d9-4322-a102-7c08bccf3128",
        "colab": {
          "base_uri": "https://localhost:8080/",
          "height": 295
        }
      },
      "source": [
        "import matplotlib.pyplot as py\n",
        "layerOutput=0\n",
        "py.title('Sample Number versus Layer Summed Activation - Layer 1')\n",
        "py.xlabel('sample number') \n",
        "py.ylabel('layer summed activation')\n",
        "\n",
        "for i in range(60):\n",
        "  neuron1=(sum(layer.layerOutput(testData[i])[0:10] ))\n",
        "  if i<=19:\n",
        "    py.scatter(i,neuron1,color='red') #Zeros \n",
        "  elif i>=20 and i<=40:\n",
        "    py.scatter(i,neuron1,color='blue') #Twos \n",
        "  elif i>=41:\n",
        "    py.scatter(i,neuron1,color='green')#Fours \n",
        "  "
      ],
      "execution_count": 0,
      "outputs": [
        {
          "output_type": "display_data",
          "data": {
            "image/png": "[encoded data removed]",
            "text/plain": [
              "<Figure size 432x288 with 1 Axes>"
            ]
          },
          "metadata": {
            "tags": []
          }
        }
      ]
    },
    {
      "cell_type": "code",
      "metadata": {
        "id": "1UuAZKoFHmjX",
        "colab_type": "code",
        "colab": {}
      },
      "source": [
        ""
      ],
      "execution_count": 0,
      "outputs": []
    },
    {
      "cell_type": "code",
      "metadata": {
        "id": "AMOnZm_SIpP9",
        "colab_type": "code",
        "colab": {}
      },
      "source": [
        ""
      ],
      "execution_count": 0,
      "outputs": []
    }
  ]
}
